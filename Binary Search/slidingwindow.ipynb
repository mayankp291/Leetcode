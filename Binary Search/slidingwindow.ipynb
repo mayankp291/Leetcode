{
 "cells": [
  {
   "cell_type": "markdown",
   "metadata": {},
   "source": [
    "# Sliding Window \n",
    "Sliding window problems are a DP technique used for subarray/substring style problems\n",
    "\n",
    "Time O(n)\\\n",
    "Space O(1)\n",
    "\n",
    "### Statically Sized Sliding Window (Easy) \n",
    "Given an array of integers, find maximum/minimum sum subarray of the required size"
   ]
  },
  {
   "cell_type": "code",
   "execution_count": null,
   "metadata": {},
   "outputs": [],
   "source": [
    "def max_subarray(arr, n):\n",
    "    subarr = [0]*n\n",
    "    maxs = 0\n",
    "    # Go throught n elements and keep sliding the window\n",
    "    for i in range(len(arr)-n):\n",
    "        if sum(arr[i:i+n]) > maxs:\n",
    "            subarr = arr[i:i+n]\n",
    "            maxs = sum(arr[i:i+n])\n",
    "    return subarr"
   ]
  }
 ],
 "metadata": {
  "kernelspec": {
   "display_name": "Python 3.10.4 64-bit",
   "language": "python",
   "name": "python3"
  },
  "language_info": {
   "name": "python",
   "version": "3.10.4"
  },
  "orig_nbformat": 4,
  "vscode": {
   "interpreter": {
    "hash": "e7370f93d1d0cde622a1f8e1c04877d8463912d04d973331ad4851f04de6915a"
   }
  }
 },
 "nbformat": 4,
 "nbformat_minor": 2
}
