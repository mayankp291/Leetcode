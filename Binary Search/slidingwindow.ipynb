{
 "cells": [
  {
   "cell_type": "markdown",
   "metadata": {},
   "source": [
    "# Sliding Window \n",
    "Sliding window problems are a DP technique used for subarray/substring style problems\n",
    "\n",
    "Time O(n)\\\n",
    "Space O(1)\n",
    "\n",
    "### Statically Sized Sliding Window (Easy) \n",
    "Given an array of integers, find maximum/minimum sum subarray of the required size"
   ]
  },
  {
   "cell_type": "code",
   "execution_count": null,
   "metadata": {
    "vscode": {
     "languageId": "plaintext"
    }
   },
   "outputs": [],
   "source": [
    "def max_subarray(arr, n):\n",
    "    subarr = [0]*n\n",
    "    maxs = 0\n",
    "    for i in range(len(arr)-n):\n",
    "        if max(arr[i:i+n]) > maxs:\n",
    "            subarr = arr[i:i+n]\n",
    "            maxs = max(arr[i:i+n])\n",
    "    return subarr"
   ]
  }
 ],
 "metadata": {
  "language_info": {
   "name": "python"
  },
  "orig_nbformat": 4
 },
 "nbformat": 4,
 "nbformat_minor": 2
}
