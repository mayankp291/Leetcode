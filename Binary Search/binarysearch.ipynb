{
 "cells": [
  {
   "cell_type": "markdown",
   "metadata": {},
   "source": [
    "# Binary Search\n",
    "\n",
    "### Ceiling of a number\n",
    "\n",
    "When loop breaks `l` is `mid + 1` (loop condition is violated as order is r < mid < l now) and points to the number greater than target."
   ]
  },
  {
   "cell_type": "code",
   "execution_count": 22,
   "metadata": {},
   "outputs": [
    {
     "name": "stdout",
     "output_type": "stream",
     "text": [
      "22\n"
     ]
    }
   ],
   "source": [
    "# return number greater than or equal to target\n",
    "def ceilingArray(nums, target):\n",
    "    n = len(nums)\n",
    "    l, r = 0, n-1\n",
    "    \n",
    "    # error \n",
    "    if target > nums[n-1]:\n",
    "        return -1\n",
    "        \n",
    "    while l<=r:\n",
    "        mid = l + (r-l)//2\n",
    "        curr = nums[mid]\n",
    "        if curr == target:\n",
    "            return nums[mid]\n",
    "        elif target < curr:\n",
    "            r = mid - 1\n",
    "        else:\n",
    "            l = mid + 1\n",
    "    # return lower pointer\n",
    "    return nums[l]\n",
    "\n",
    "a = [2,3,5,7,10,22]\n",
    "print(ceilingArray(a, 11))"
   ]
  },
  {
   "cell_type": "markdown",
   "metadata": {},
   "source": [
    "### Floor of a number\n",
    "\n",
    "When loop breaks `r` is `mid - 1` (loop condition is violated as order is r < mid < l now) and points to the number lower than target. "
   ]
  },
  {
   "cell_type": "code",
   "execution_count": 30,
   "metadata": {},
   "outputs": [
    {
     "name": "stdout",
     "output_type": "stream",
     "text": [
      "10\n"
     ]
    }
   ],
   "source": [
    "# return number smaller than or equal to target\n",
    "def floorArray(nums, target):\n",
    "    n = len(nums)\n",
    "    l, r = 0, n-1\n",
    "\n",
    "    # error \n",
    "    if target < nums[0]:\n",
    "        return -1\n",
    "\n",
    "    while l<=r:\n",
    "        mid = l + (r-l)//2\n",
    "        curr = nums[mid]\n",
    "        if curr == target:\n",
    "            return nums[mid]\n",
    "        elif target < curr:\n",
    "            r = mid - 1\n",
    "        else:\n",
    "            l = mid + 1\n",
    "    # return right pointer\n",
    "    return nums[r]\n",
    "\n",
    "a = [2,3,5,7,10,22]\n",
    "print(floorArray(a, 10))"
   ]
  },
  {
   "cell_type": "markdown",
   "metadata": {},
   "source": [
    "### Smallest number greater than target\n",
    "\n",
    "Same concept as ceiling of a number"
   ]
  },
  {
   "cell_type": "code",
   "execution_count": null,
   "metadata": {},
   "outputs": [],
   "source": [
    "class Solution:\n",
    "    def nextGreatestLetter(self, letters: List[str], target: str) -> str:\n",
    "        n = len(letters)\n",
    "        # initial condition\n",
    "        if letters[n-1] <= target or target < letters[0]:\n",
    "            return letters[0]\n",
    "        lower = 0\n",
    "        upper = n-1\n",
    "        # binary search\n",
    "        while lower <= upper:\n",
    "            mid = lower + (upper-lower)//2\n",
    "            curr = letters[mid]\n",
    "            if target < curr:\n",
    "                upper = mid - 1\n",
    "            else:\n",
    "                lower = mid + 1\n",
    "        # initial condition can be skipped and letters[lower % n] can be returned also\n",
    "        # will give worse time complexity\n",
    "        return letters[lower]"
   ]
  }
 ],
 "metadata": {
  "kernelspec": {
   "display_name": "Python 3.10.4 64-bit",
   "language": "python",
   "name": "python3"
  },
  "language_info": {
   "codemirror_mode": {
    "name": "ipython",
    "version": 3
   },
   "file_extension": ".py",
   "mimetype": "text/x-python",
   "name": "python",
   "nbconvert_exporter": "python",
   "pygments_lexer": "ipython3",
   "version": "3.10.4"
  },
  "orig_nbformat": 4,
  "vscode": {
   "interpreter": {
    "hash": "e7370f93d1d0cde622a1f8e1c04877d8463912d04d973331ad4851f04de6915a"
   }
  }
 },
 "nbformat": 4,
 "nbformat_minor": 2
}
